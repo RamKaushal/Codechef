{
  "nbformat": 4,
  "nbformat_minor": 0,
  "metadata": {
    "colab": {
      "name": "Minimum Attendance Requirement ",
      "provenance": [],
      "collapsed_sections": []
    },
    "kernelspec": {
      "name": "python3",
      "display_name": "Python 3"
    }
  },
  "cells": [
    {
      "cell_type": "code",
      "metadata": {
        "colab": {
          "base_uri": "https://localhost:8080/"
        },
        "id": "RN5MHeGPO6Nq",
        "outputId": "3524af85-374c-4a40-db3c-db308297abf0"
      },
      "source": [
        "test_cases = int(input())\r\n",
        "for i in range(0,test_cases):\r\n",
        "  n = int(input())\r\n",
        "  k = str(input())\r\n",
        "  nlist = [int(val) for val in k]\r\n",
        "  absent = nlist.count(0)\r\n",
        "  if absent<30:\r\n",
        "    print(\"YES\")\r\n",
        "  else:\r\n",
        "    print(\"NO\")"
      ],
      "execution_count": null,
      "outputs": [
        {
          "output_type": "stream",
          "text": [
            "3\n",
            "50\n",
            "00000000000000000000000000000000000000000000000000\n",
            "NO\n",
            "50\n",
            "01010101010101010101010101010101010101010101010101\n",
            "YES\n",
            "2\n",
            "01\n",
            "YES\n"
          ],
          "name": "stdout"
        }
      ]
    },
    {
      "cell_type": "code",
      "metadata": {
        "id": "vVFcCH7tPAG5"
      },
      "source": [
        "\r\n",
        "\r\n"
      ],
      "execution_count": null,
      "outputs": []
    }
  ]
}