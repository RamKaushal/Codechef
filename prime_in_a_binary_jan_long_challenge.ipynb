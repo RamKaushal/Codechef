{
  "nbformat": 4,
  "nbformat_minor": 0,
  "metadata": {
    "colab": {
      "name": "prime in a binary jan long challenge",
      "provenance": []
    },
    "kernelspec": {
      "name": "python3",
      "display_name": "Python 3"
    },
    "language_info": {
      "name": "python"
    }
  },
  "cells": [
    {
      "cell_type": "code",
      "execution_count": 4,
      "metadata": {
        "colab": {
          "base_uri": "https://localhost:8080/"
        },
        "id": "-c3Yv_8oCNl-",
        "outputId": "5ec0869f-d8f6-43a1-cd1e-81790dd2a341"
      },
      "outputs": [
        {
          "output_type": "stream",
          "name": "stdout",
          "text": [
            "enter no of test cases1\n",
            "1234\n",
            "\n",
            "['']\n",
            "1\n",
            "['', '1']\n",
            "12\n",
            "['', '1', '12']\n",
            "123\n",
            "['', '1', '12', '123']\n",
            "1234\n",
            "['', '1', '12', '123', '1234']\n",
            "\n",
            "['', '1', '12', '123', '1234', '']\n",
            "2\n",
            "['', '1', '12', '123', '1234', '', '2']\n",
            "23\n",
            "['', '1', '12', '123', '1234', '', '2', '23']\n",
            "234\n",
            "['', '1', '12', '123', '1234', '', '2', '23', '234']\n",
            "\n",
            "['', '1', '12', '123', '1234', '', '2', '23', '234', '']\n",
            "3\n",
            "['', '1', '12', '123', '1234', '', '2', '23', '234', '', '3']\n",
            "34\n",
            "['', '1', '12', '123', '1234', '', '2', '23', '234', '', '3', '34']\n",
            "\n",
            "['', '1', '12', '123', '1234', '', '2', '23', '234', '', '3', '34', '']\n",
            "4\n",
            "['', '1', '12', '123', '1234', '', '2', '23', '234', '', '3', '34', '', '4']\n",
            "['', '1', '12', '123', '1234', '', '2', '23', '234', '', '3', '34', '', '4']\n"
          ]
        }
      ],
      "source": [
        "class prime:\n",
        "  def __init__(self):\n",
        "    return None\n",
        "\n",
        "\n",
        "  def substring(self):\n",
        "    \"\"\"\n",
        "    takes input of string\n",
        "    returns: substring of all the occurences in string in the list occurance\n",
        "    \"\"\"\n",
        "    \n",
        "    occurance = []\n",
        "    string_value = str(input())\n",
        "    for i in range(0,len(string_value)):\n",
        "      for j in range(i,len(string_value)+1):\n",
        "        print(string_value[i:j])\n",
        "        occurance.append(string_value[i:j])\n",
        "        print(occurance)\n",
        "    return occurance\n",
        "  \n",
        "  def isprime(self,occ):\n",
        "    \"\"\"\n",
        "    takes list of occ as input\n",
        "    returns: prime numbers list of binary numbers \n",
        "    \"\"\"\n",
        "    total_list = []\n",
        "    prime_list = []\n",
        "    \n",
        "    for i in occ:\n",
        "      \n",
        "      deciamls = int(int(i),2)\n",
        "      total_list.append(decimals)\n",
        "    for m in total_list:\n",
        "      c = 0\n",
        "      for n in range(1,m+1):\n",
        "        if m%n == 0:\n",
        "          c += 1\n",
        "      if c>2:\n",
        "        continue\n",
        "      else:\n",
        "        prime_list.append(m)\n",
        "\n",
        "      return prime_list\n",
        "    \n",
        "    def output(self,prime):\n",
        "      \"\"\"\n",
        "      returns the output yes or no\n",
        "      \"\"\"\n",
        "      if len(prime) >= 1:\n",
        "        return yes\n",
        "      else:\n",
        "        return No\n",
        "\n",
        "if __name__ == \"__main__\":\n",
        "  for n in range(0,int(input(\"enter no of test cases\"))):\n",
        "    prime = prime()\n",
        "    occ = prime.substring()\n",
        "    isp = prime.isprime(occ)\n",
        "    out = prime.output(isp)\n",
        "    print(occ)\n",
        "\n",
        "  \n",
        "\n",
        "\n",
        "\n",
        "      \n",
        "\n"
      ]
    },
    {
      "cell_type": "code",
      "source": [
        "abcd\n",
        "\n",
        "a ab ac ad \n",
        "b bc bd \n",
        "c cd \n",
        "d"
      ],
      "metadata": {
        "id": "w7ohUn6UDGpI"
      },
      "execution_count": null,
      "outputs": []
    },
    {
      "cell_type": "code",
      "source": [
        "3\n",
        "1\n",
        "111\n",
        "101101"
      ],
      "metadata": {
        "id": "erdVIQ_NJQd2"
      },
      "execution_count": null,
      "outputs": []
    }
  ]
}