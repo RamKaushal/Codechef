{
  "nbformat": 4,
  "nbformat_minor": 0,
  "metadata": {
    "colab": {
      "name": "three letters",
      "provenance": []
    },
    "kernelspec": {
      "name": "python3",
      "display_name": "Python 3"
    }
  },
  "cells": [
    {
      "cell_type": "code",
      "metadata": {
        "colab": {
          "base_uri": "https://localhost:8080/"
        },
        "id": "hT8guz9x9Rd9",
        "outputId": "1c8b43ec-2de2-46e4-f49b-cce8f15c2ccd"
      },
      "source": [
        "t = int(input())\r\n",
        "for i in range(0,t):\r\n",
        "    st = str(input())\r\n",
        "    k = [i for i in st]\r\n",
        "    j = list(set(k))\r\n",
        "    count = 0\r\n",
        "    le = int(len(st)//3)\r\n",
        "    for i in j:\r\n",
        "        if k.count(i) >=2:\r\n",
        "            value = k.count(i)//2 \r\n",
        "            count += value\r\n",
        "    if le<count:\r\n",
        "      print(le)\r\n",
        "    else:\r\n",
        "      print(count)\r\n",
        "        "
      ],
      "execution_count": 5,
      "outputs": [
        {
          "output_type": "stream",
          "text": [
            "2\n",
            "abcd\n",
            "0\n",
            "codechef\n",
            "2\n"
          ],
          "name": "stdout"
        }
      ]
    }
  ]
}