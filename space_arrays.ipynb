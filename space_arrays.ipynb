{
  "nbformat": 4,
  "nbformat_minor": 0,
  "metadata": {
    "colab": {
      "name": "space arrays",
      "provenance": []
    },
    "kernelspec": {
      "name": "python3",
      "display_name": "Python 3"
    }
  },
  "cells": [
    {
      "cell_type": "code",
      "metadata": {
        "id": "eJkRcHXrlC77"
      },
      "source": [
        "for i in range(int(input())):\r\n",
        "    c = 0\r\n",
        "    k = int(input())\r\n",
        "    val = list(map(int,input().split()))\r\n",
        "    klist = list(map(int,range(1,k+1)))\r\n",
        "    for j in range(0,k):\r\n",
        "        while  val[j] < klist[j]:\r\n",
        "            val[j] += 1\r\n",
        "            c += 1 \r\n",
        "    if c%2 == 0:\r\n",
        "        print(\"Second\")\r\n",
        "    else:\r\n",
        "        print(\"First\")"
      ],
      "execution_count": null,
      "outputs": []
    }
  ]
}