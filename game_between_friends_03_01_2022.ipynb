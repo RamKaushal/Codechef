{
  "nbformat": 4,
  "nbformat_minor": 0,
  "metadata": {
    "colab": {
      "name": "game between friends 03-01-2022",
      "provenance": []
    },
    "kernelspec": {
      "name": "python3",
      "display_name": "Python 3"
    },
    "language_info": {
      "name": "python"
    }
  },
  "cells": [
    {
      "cell_type": "code",
      "execution_count": 21,
      "metadata": {
        "colab": {
          "base_uri": "https://localhost:8080/"
        },
        "id": "ZFal4Cknp2uQ",
        "outputId": "26bb9d58-fd4a-4fcf-8378-4b2f96095e3b"
      },
      "outputs": [
        {
          "output_type": "stream",
          "name": "stdout",
          "text": [
            "1\n",
            "2 3 4 5\n",
            "S wins\n"
          ]
        }
      ],
      "source": [
        "class game:\n",
        "  def __init__(self,testcases):\n",
        "    self.testcases = testcases\n",
        "  def winner(self):\n",
        "    \"\"\"\n",
        "    parameters: takes testcases as parameters\n",
        "    input: n,s,r,d\n",
        "    output: returns who wins\n",
        "    \"\"\"\n",
        "    for i in range(0,self.testcases):\n",
        "      n,s,r,d = map(int,input().split(\" \"))\n",
        "      if n<s:\n",
        "        n = n+r\n",
        "        if n<s:\n",
        "          n = n+d \n",
        "      if n>s:\n",
        "        s = s+r\n",
        "        if n>s:\n",
        "          s = s+d  \n",
        "      if n == s:\n",
        "        n = n+r\n",
        "        if n == s:\n",
        "          n = n+d \n",
        "      if n>=s:\n",
        "       return \"Nithin wins\"\n",
        "      else:\n",
        "        return \"S wins\"\n",
        "\n",
        "if __name__ == \"__main__\":\n",
        "  testcases = int(input())\n",
        "  game1 = game(testcases)\n",
        "  game1.winner()\n"
      ]
    },
    {
      "cell_type": "code",
      "source": [
        "\n"
      ],
      "metadata": {
        "colab": {
          "base_uri": "https://localhost:8080/"
        },
        "id": "ojy0lD38qFEA",
        "outputId": "2923c58b-2712-41b9-e921-14db1ffd915b"
      },
      "execution_count": 19,
      "outputs": [
        {
          "name": "stdout",
          "output_type": "stream",
          "text": [
            "1\n"
          ]
        }
      ]
    },
    {
      "cell_type": "code",
      "source": [
        ""
      ],
      "metadata": {
        "colab": {
          "base_uri": "https://localhost:8080/"
        },
        "id": "4Q7cZPSDqt88",
        "outputId": "ff7af091-cc9e-4708-e6cc-944bef1cfa43"
      },
      "execution_count": 20,
      "outputs": [
        {
          "output_type": "stream",
          "name": "stdout",
          "text": [
            "2 3 4 5\n",
            "S wins\n"
          ]
        }
      ]
    }
  ]
}