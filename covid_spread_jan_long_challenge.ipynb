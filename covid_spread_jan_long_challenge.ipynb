{
  "nbformat": 4,
  "nbformat_minor": 0,
  "metadata": {
    "colab": {
      "name": "covid spread jan long challenge",
      "provenance": []
    },
    "kernelspec": {
      "name": "python3",
      "display_name": "Python 3"
    },
    "language_info": {
      "name": "python"
    }
  },
  "cells": [
    {
      "cell_type": "code",
      "execution_count": 11,
      "metadata": {
        "colab": {
          "base_uri": "https://localhost:8080/"
        },
        "id": "Dw7AbYn63GrU",
        "outputId": "87c49a0d-d31c-4954-94f2-de0c97e25bab"
      },
      "outputs": [
        {
          "output_type": "stream",
          "name": "stdout",
          "text": [
            "num of testcases1\n",
            "10 11\n",
            "10\n",
            "16\n"
          ]
        }
      ],
      "source": [
        "class covid:\n",
        "  def __init__(self,testcases):\n",
        "    \"\"\"\n",
        "    takes self as parameter\n",
        "    retuns : None\n",
        "    \"\"\"\n",
        "    self.testcases = testcases\n",
        "\n",
        "\n",
        "  def spread_count(self):\n",
        "    \"\"\"\n",
        "    Takes no parameters but input of N and D, and print the outcomes of spread number after Dth day\n",
        "    \"\"\"\n",
        "    for i in range(0,self.testcases):\n",
        "      n,d = map(int,input().split(\" \"))\n",
        "      for i in range(0,d):\n",
        "        if i<=10:\n",
        "          spread = 2*(2**i)\n",
        "          if spread>=n:\n",
        "            print(n)\n",
        "            break\n",
        "        elif i>10:\n",
        "          spread = 3*(3**i)\n",
        "          if spread>=n:\n",
        "            print(n)\n",
        "            break\n",
        "      print(spread)\n",
        "    return None\n",
        "\n",
        "if __name__ == \"__main__\":\n",
        "  covid = covid(int(input(\"num of testcases\")))\n",
        "  covid.spread_count()"
      ]
    },
    {
      "cell_type": "code",
      "source": [
        "4\n",
        "100 3\n",
        "2000 10\n",
        "6000 11\n",
        "10 11"
      ],
      "metadata": {
        "id": "9Jzj5LG17h6S"
      },
      "execution_count": null,
      "outputs": []
    },
    {
      "cell_type": "code",
      "source": [
        "8\n",
        "1024\n",
        "3072\n",
        "10"
      ],
      "metadata": {
        "id": "prZxln5G7iOB"
      },
      "execution_count": null,
      "outputs": []
    },
    {
      "cell_type": "code",
      "source": [
        "\n",
        "print(2**0)"
      ],
      "metadata": {
        "colab": {
          "base_uri": "https://localhost:8080/"
        },
        "id": "wmcA144Y8oaK",
        "outputId": "4a6ffb62-3a53-475e-e929-0f3afcf88212"
      },
      "execution_count": 8,
      "outputs": [
        {
          "output_type": "stream",
          "name": "stdout",
          "text": [
            "1\n"
          ]
        }
      ]
    }
  ]
}