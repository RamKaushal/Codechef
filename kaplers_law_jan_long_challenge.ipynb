{
  "nbformat": 4,
  "nbformat_minor": 0,
  "metadata": {
    "colab": {
      "name": "kaplers law jan long challenge",
      "provenance": []
    },
    "kernelspec": {
      "name": "python3",
      "display_name": "Python 3"
    },
    "language_info": {
      "name": "python"
    }
  },
  "cells": [
    {
      "cell_type": "code",
      "execution_count": 4,
      "metadata": {
        "colab": {
          "base_uri": "https://localhost:8080/"
        },
        "id": "MgtFp7uex5eh",
        "outputId": "2b07cf27-4dcd-45bc-88bd-5b5f28945a41"
      },
      "outputs": [
        {
          "output_type": "stream",
          "name": "stdout",
          "text": [
            "Testcases3\n",
            "1 1 1 1\n",
            "yes\n",
            "1 2 3 4\n",
            "No\n",
            "1 8 2 8\n",
            "yes\n"
          ]
        }
      ],
      "source": [
        "class kepler:\n",
        "  def __init__(self,testcase):\n",
        "    \"\"\"\n",
        "    Takes testcase as parameter that gest passed to next function to run multiple times\n",
        "    retuns:None\n",
        "    \"\"\"\n",
        "    self.testcase = testcase\n",
        "\n",
        "\n",
        "  def law(self):\n",
        "    \"\"\"\n",
        "    Takes input of t1,r1,t2,r2\n",
        "    returns:yes or No\n",
        "    \"\"\"\n",
        "    for i in range(0,self.testcase):\n",
        "      t1,t2,r1,r2 = map(int,input().split(\" \"))\n",
        "      p1_t = (t1**2)\n",
        "      p1_r = (r1**3)\n",
        "      p2_t = (t2**2)\n",
        "      p2_r = (r2**3)\n",
        "      if (p1_t / p1_r) == (p2_t/p2_r):\n",
        "       \n",
        "              print(\"Yes\")\n",
        "      else:\n",
        "        print(\"No\")\n",
        "    return None\n",
        "\n",
        "if __name__ == \"__main__\":\n",
        "  kep = kepler(int(input(\"Testcases\")))\n",
        "  kep.law()\n",
        " "
      ]
    },
    {
      "cell_type": "markdown",
      "source": [
        "testcases\n",
        "3\n",
        "1 1 1 1\n",
        "1 2 3 4\n",
        "1 8 2 8"
      ],
      "metadata": {
        "id": "HNXl3fhi1Wql"
      }
    },
    {
      "cell_type": "markdown",
      "source": [
        "sol:\n",
        "Yes\n",
        "No\n",
        "Yes"
      ],
      "metadata": {
        "id": "_1qiJnso1aRW"
      }
    }
  ]
}