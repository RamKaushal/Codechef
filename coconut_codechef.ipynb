{
  "nbformat": 4,
  "nbformat_minor": 0,
  "metadata": {
    "colab": {
      "name": "coconut codechef",
      "provenance": [],
      "authorship_tag": "ABX9TyMfURutwSz9iLrgq/BAB9/n",
      "include_colab_link": true
    },
    "kernelspec": {
      "name": "python3",
      "display_name": "Python 3"
    },
    "language_info": {
      "name": "python"
    }
  },
  "cells": [
    {
      "cell_type": "markdown",
      "metadata": {
        "id": "view-in-github",
        "colab_type": "text"
      },
      "source": [
        "<a href=\"https://colab.research.google.com/github/RamKaushal/Codechef/blob/main/coconut_codechef.ipynb\" target=\"_parent\"><img src=\"https://colab.research.google.com/assets/colab-badge.svg\" alt=\"Open In Colab\"/></a>"
      ]
    },
    {
      "cell_type": "code",
      "metadata": {
        "colab": {
          "base_uri": "https://localhost:8080/"
        },
        "id": "5Ib62m9I87po",
        "outputId": "3015577c-b479-40d1-b644-1468a8c87b47"
      },
      "source": [
        "for i in range(int(input())):\n",
        "  x,y,X,Y = map(int,input().split(\" \"))\n",
        "  print((X//x) + (Y//y))"
      ],
      "execution_count": 6,
      "outputs": [
        {
          "output_type": "stream",
          "text": [
            "3\n",
            "100 400 1000 1200\n",
            "13\n",
            "100 450 1000 1350\n",
            "13\n",
            "150 400 1200 1200\n",
            "11\n"
          ],
          "name": "stdout"
        }
      ]
    },
    {
      "cell_type": "code",
      "metadata": {
        "id": "-DFmI2yD9XyL"
      },
      "source": [
        "3\n",
        "100 400 1000 1200\n",
        "100 450 1000 1350\n",
        "150 400 1200 1200"
      ],
      "execution_count": null,
      "outputs": []
    }
  ]
}